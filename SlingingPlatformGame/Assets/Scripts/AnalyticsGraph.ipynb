{
 "cells": [
  {
   "cell_type": "code",
   "execution_count": 60,
   "id": "c5c7a846",
   "metadata": {},
   "outputs": [],
   "source": [
    "from firebase import firebase\n",
    "import pandas as pd\n",
    "import matplotlib.pyplot as plt\n",
    "from collections import Counter\n",
    "import numpy as np\n",
    "import seaborn as sns\n",
    "import warnings\n",
    "import json\n",
    "warnings.filterwarnings('ignore')"
   ]
  },
  {
   "cell_type": "code",
   "execution_count": 61,
   "id": "8e728d18",
   "metadata": {},
   "outputs": [],
   "source": [
    "firebaseObj = firebase.FirebaseApplication('https://demodemo-96d74-default-rtdb.firebaseio.com/', None)\n",
    "result = firebaseObj.get('/', None)"
   ]
  },
  {
   "cell_type": "code",
   "execution_count": 84,
   "id": "4617bf37",
   "metadata": {},
   "outputs": [],
   "source": [
    "rows = []\n",
    "for i in result['pre-midterm']:\n",
    "    for j in result['pre-midterm'][i]:\n",
    "        result['pre-midterm'][i][j]['ID'] = j\n",
    "        rows.append(result['pre-midterm'][i][j])"
   ]
  },
  {
   "cell_type": "code",
   "execution_count": 85,
   "id": "46caf28b",
   "metadata": {},
   "outputs": [],
   "source": [
    "df = pd.DataFrame(rows)"
   ]
  },
  {
   "cell_type": "code",
   "execution_count": 86,
   "id": "65c66fe6",
   "metadata": {},
   "outputs": [
    {
     "data": {
      "text/html": [
       "<div>\n",
       "<style scoped>\n",
       "    .dataframe tbody tr th:only-of-type {\n",
       "        vertical-align: middle;\n",
       "    }\n",
       "\n",
       "    .dataframe tbody tr th {\n",
       "        vertical-align: top;\n",
       "    }\n",
       "\n",
       "    .dataframe thead th {\n",
       "        text-align: right;\n",
       "    }\n",
       "</style>\n",
       "<table border=\"1\" class=\"dataframe\">\n",
       "  <thead>\n",
       "    <tr style=\"text-align: right;\">\n",
       "      <th></th>\n",
       "      <th>level</th>\n",
       "      <th>levelTimeLine</th>\n",
       "      <th>outcome</th>\n",
       "      <th>platformCords</th>\n",
       "      <th>userID</th>\n",
       "      <th>ID</th>\n",
       "    </tr>\n",
       "  </thead>\n",
       "  <tbody>\n",
       "    <tr>\n",
       "      <th>0</th>\n",
       "      <td>0</td>\n",
       "      <td>14</td>\n",
       "      <td>1</td>\n",
       "      <td>{x:0.5084957,y:-2.200433},{x:-9.494595,y:3.667...</td>\n",
       "      <td>09b10fcd-8ba9-4287-bafa-7b7c8ba6e929</td>\n",
       "      <td>-NOmIaHEaJ4lQYOG8He9</td>\n",
       "    </tr>\n",
       "    <tr>\n",
       "      <th>1</th>\n",
       "      <td>1</td>\n",
       "      <td>3</td>\n",
       "      <td>0</td>\n",
       "      <td>{x:0.5084957,y:-2.200433},{x:-9.494595,y:3.667...</td>\n",
       "      <td>09b10fcd-8ba9-4287-bafa-7b7c8ba6e929</td>\n",
       "      <td>-NOmIb5aMVUBjtnm3iIv</td>\n",
       "    </tr>\n",
       "    <tr>\n",
       "      <th>2</th>\n",
       "      <td>1</td>\n",
       "      <td>15</td>\n",
       "      <td>0</td>\n",
       "      <td>{x:0.5084957,y:-2.200433},{x:-9.494595,y:3.667...</td>\n",
       "      <td>09b10fcd-8ba9-4287-bafa-7b7c8ba6e929</td>\n",
       "      <td>-NOmIf-7NO5y7jfl_FnH</td>\n",
       "    </tr>\n",
       "    <tr>\n",
       "      <th>3</th>\n",
       "      <td>1</td>\n",
       "      <td>15</td>\n",
       "      <td>0</td>\n",
       "      <td>{x:0.5084957,y:-2.200433},{x:-9.494595,y:3.667...</td>\n",
       "      <td>09b10fcd-8ba9-4287-bafa-7b7c8ba6e929</td>\n",
       "      <td>-NOmIiu8oPXiPrjIHXN9</td>\n",
       "    </tr>\n",
       "    <tr>\n",
       "      <th>4</th>\n",
       "      <td>0</td>\n",
       "      <td>4</td>\n",
       "      <td>0</td>\n",
       "      <td>{x:2.114864,y:-1.864357},</td>\n",
       "      <td>09b10fcd-8ba9-4287-bafa-7b7c8ba6e929</td>\n",
       "      <td>-NOmN9tTXJOzs_Z8H-ek</td>\n",
       "    </tr>\n",
       "    <tr>\n",
       "      <th>...</th>\n",
       "      <td>...</td>\n",
       "      <td>...</td>\n",
       "      <td>...</td>\n",
       "      <td>...</td>\n",
       "      <td>...</td>\n",
       "      <td>...</td>\n",
       "    </tr>\n",
       "    <tr>\n",
       "      <th>548</th>\n",
       "      <td>0</td>\n",
       "      <td>7</td>\n",
       "      <td>1</td>\n",
       "      <td></td>\n",
       "      <td>e5ab32e9-8cc7-47a0-a9d1-72daffe461a2</td>\n",
       "      <td>-NP9oNyt7kOvE3tjmpHN</td>\n",
       "    </tr>\n",
       "    <tr>\n",
       "      <th>549</th>\n",
       "      <td>1</td>\n",
       "      <td>7</td>\n",
       "      <td>0</td>\n",
       "      <td>{x:-11.49722,y:-3.101616},</td>\n",
       "      <td>e5ab32e9-8cc7-47a0-a9d1-72daffe461a2</td>\n",
       "      <td>-NP9oPlQOzlwsoBjXffK</td>\n",
       "    </tr>\n",
       "    <tr>\n",
       "      <th>550</th>\n",
       "      <td>1</td>\n",
       "      <td>20</td>\n",
       "      <td>0</td>\n",
       "      <td>{x:-11.50635,y:-3.042166},</td>\n",
       "      <td>e5ab32e9-8cc7-47a0-a9d1-72daffe461a2</td>\n",
       "      <td>-NP9oUhZvOnYmq_qjBd4</td>\n",
       "    </tr>\n",
       "    <tr>\n",
       "      <th>551</th>\n",
       "      <td>1</td>\n",
       "      <td>5</td>\n",
       "      <td>0</td>\n",
       "      <td>{x:-9.863338,y:-2.811897},</td>\n",
       "      <td>e5ab32e9-8cc7-47a0-a9d1-72daffe461a2</td>\n",
       "      <td>-NP9oW6DaEBGbFOfaqUR</td>\n",
       "    </tr>\n",
       "    <tr>\n",
       "      <th>552</th>\n",
       "      <td>1</td>\n",
       "      <td>48</td>\n",
       "      <td>0</td>\n",
       "      <td>{x:-9.486183,y:-3.140856},{x:-9.448595,y:-2.94...</td>\n",
       "      <td>e5ab32e9-8cc7-47a0-a9d1-72daffe461a2</td>\n",
       "      <td>-NP9oguvBFvKlbHKzrFa</td>\n",
       "    </tr>\n",
       "  </tbody>\n",
       "</table>\n",
       "<p>553 rows × 6 columns</p>\n",
       "</div>"
      ],
      "text/plain": [
       "     level  levelTimeLine  outcome  \\\n",
       "0        0             14        1   \n",
       "1        1              3        0   \n",
       "2        1             15        0   \n",
       "3        1             15        0   \n",
       "4        0              4        0   \n",
       "..     ...            ...      ...   \n",
       "548      0              7        1   \n",
       "549      1              7        0   \n",
       "550      1             20        0   \n",
       "551      1              5        0   \n",
       "552      1             48        0   \n",
       "\n",
       "                                         platformCords  \\\n",
       "0    {x:0.5084957,y:-2.200433},{x:-9.494595,y:3.667...   \n",
       "1    {x:0.5084957,y:-2.200433},{x:-9.494595,y:3.667...   \n",
       "2    {x:0.5084957,y:-2.200433},{x:-9.494595,y:3.667...   \n",
       "3    {x:0.5084957,y:-2.200433},{x:-9.494595,y:3.667...   \n",
       "4                            {x:2.114864,y:-1.864357},   \n",
       "..                                                 ...   \n",
       "548                                                      \n",
       "549                         {x:-11.49722,y:-3.101616},   \n",
       "550                         {x:-11.50635,y:-3.042166},   \n",
       "551                         {x:-9.863338,y:-2.811897},   \n",
       "552  {x:-9.486183,y:-3.140856},{x:-9.448595,y:-2.94...   \n",
       "\n",
       "                                   userID                    ID  \n",
       "0    09b10fcd-8ba9-4287-bafa-7b7c8ba6e929  -NOmIaHEaJ4lQYOG8He9  \n",
       "1    09b10fcd-8ba9-4287-bafa-7b7c8ba6e929  -NOmIb5aMVUBjtnm3iIv  \n",
       "2    09b10fcd-8ba9-4287-bafa-7b7c8ba6e929  -NOmIf-7NO5y7jfl_FnH  \n",
       "3    09b10fcd-8ba9-4287-bafa-7b7c8ba6e929  -NOmIiu8oPXiPrjIHXN9  \n",
       "4    09b10fcd-8ba9-4287-bafa-7b7c8ba6e929  -NOmN9tTXJOzs_Z8H-ek  \n",
       "..                                    ...                   ...  \n",
       "548  e5ab32e9-8cc7-47a0-a9d1-72daffe461a2  -NP9oNyt7kOvE3tjmpHN  \n",
       "549  e5ab32e9-8cc7-47a0-a9d1-72daffe461a2  -NP9oPlQOzlwsoBjXffK  \n",
       "550  e5ab32e9-8cc7-47a0-a9d1-72daffe461a2  -NP9oUhZvOnYmq_qjBd4  \n",
       "551  e5ab32e9-8cc7-47a0-a9d1-72daffe461a2  -NP9oW6DaEBGbFOfaqUR  \n",
       "552  e5ab32e9-8cc7-47a0-a9d1-72daffe461a2  -NP9oguvBFvKlbHKzrFa  \n",
       "\n",
       "[553 rows x 6 columns]"
      ]
     },
     "execution_count": 86,
     "metadata": {},
     "output_type": "execute_result"
    }
   ],
   "source": [
    "df"
   ]
  },
  {
   "cell_type": "code",
   "execution_count": 87,
   "id": "d61227ed",
   "metadata": {},
   "outputs": [],
   "source": [
    "dfTime = df[df[\"outcome\"] == 1]"
   ]
  },
  {
   "cell_type": "markdown",
   "id": "6dcc8eac",
   "metadata": {},
   "source": [
    "## Avearge time taken to complete the level vs the level graph ( Metric #1)"
   ]
  },
  {
   "cell_type": "markdown",
   "id": "fbd0e590",
   "metadata": {},
   "source": [
    "This tells us, on average, how much time the user takes to complete the level. \n",
    "We collected the time players spent in each level to modify our design. \n",
    "We expect players to spend less than 3 minutes to pass each level. If most players spend more time than that, we should remove a part of our scene to avoid players feeling our game is boring.\n",
    "\n"
   ]
  },
  {
   "cell_type": "code",
   "execution_count": 88,
   "id": "9a6043cd",
   "metadata": {},
   "outputs": [
    {
     "data": {
      "image/png": "[encoded data removed]",
      "text/plain": [
       "<Figure size 432x288 with 1 Axes>"
      ]
     },
     "metadata": {
      "needs_background": "light"
     },
     "output_type": "display_data"
    }
   ],
   "source": [
    "bar_width = 0.35\n",
    "dfval = pd.pivot_table(dfTime, values='levelTimeLine', aggfunc=['mean', 'count'], index='level')\n",
    "dfval.plot.bar(use_index=True, y='mean', rot=0, color='#95b8d1',width=0.1)\n",
    "plt.xlabel('level')\n",
    "plt.ylabel('Avg_Time')\n",
    "plt.title('Avg_Time vs the level graph')\n",
    "plt.show()"
   ]
  },
  {
   "cell_type": "markdown",
   "id": "ea5458a0",
   "metadata": {},
   "source": [
    "## User retention rate ( Metric #2)"
   ]
  },
  {
   "cell_type": "markdown",
   "id": "38ea1860",
   "metadata": {},
   "source": [
    "We tracked the players who keep continuing the game till the end, i.e., players who find our game interesting and play all the levels. These metrics let us know about the game engagement. We expect the game plays for the higher levels to decrease gradually. \n",
    "This hints towards less motivation to continue to higher levels.\n"
   ]
  },
  {
   "cell_type": "code",
   "execution_count": 89,
   "id": "32220720",
   "metadata": {},
   "outputs": [
    {
     "name": "stdout",
     "output_type": "stream",
     "text": [
      "27\n",
      "22\n"
     ]
    },
    {
     "data": {
      "image/png": "[encoded data removed]",
      "text/plain": [
       "<Figure size 432x288 with 1 Axes>"
      ]
     },
     "metadata": {
      "needs_background": "light"
     },
     "output_type": "display_data"
    }
   ],
   "source": [
    "val0 = df[(df[\"level\"] == 0)] \n",
    "val0 = val0.drop_duplicates(subset=[\"userID\"])\n",
    "print(len(val0))\n",
    "\n",
    "val1 = df[(df[\"level\"] == 1)] \n",
    "val1 = val1.drop_duplicates(subset=[\"userID\"])\n",
    "print(len(val1))\n",
    "\n",
    "userRetentionDF = pd.DataFrame({\n",
    "    'x_axis': [0,1],\n",
    "    'y_axis':[len(val0), len(val1)]\n",
    "})\n",
    "\n",
    "plt.plot('x_axis', 'y_axis', data=userRetentionDF, linestyle='-', marker='o')\n",
    "plt.xticks(np.arange(0,5))\n",
    "plt.title('User retention graph')\n",
    "plt.xlabel('Levels')\n",
    "plt.ylabel('unique user count')\n",
    "plt.yticks(np.arange(0,40, 5)) \n",
    "plt.show()"
   ]
  },
  {
   "cell_type": "markdown",
   "id": "17c8aa1f",
   "metadata": {},
   "source": [
    "## Win/Loss vs. levels ( Metric #3)"
   ]
  },
  {
   "cell_type": "markdown",
   "id": "07cdab97",
   "metadata": {},
   "source": [
    "Are users dying more in the higher levels? Is the number of completions dropping more than expected (hinting at a lack of user interest or too difficult of a level)? As the complexity increases, there may be less motivation to continue onto higher levels. This will provide feedback on the harder levels of the game and help point to hard-to-overcome obstacles that could potentially cause the player to exit the game/skip level.\n",
    "\n"
   ]
  },
  {
   "cell_type": "code",
   "execution_count": 134,
   "id": "88bdc3e2",
   "metadata": {},
   "outputs": [
    {
     "data": {
      "image/png": "[encoded data removed]",
      "text/plain": [
       "<Figure size 432x288 with 1 Axes>"
      ]
     },
     "metadata": {
      "needs_background": "light"
     },
     "output_type": "display_data"
    }
   ],
   "source": [
    "# Create data\n",
    "x=range(0,2)\n",
    "y=[df[(df[\"outcome\"] == 0) & (df[\"level\"] == 0)]['outcome'].count(),df[(df[\"outcome\"] == 0) & (df[\"level\"] == 1)]['outcome'].count()]\n",
    "y2= [df[(df[\"outcome\"] == 1) & (df[\"level\"] == 0)]['outcome'].count(),df[(df[\"outcome\"] == 1) & (df[\"level\"] == 1)]['outcome'].count()]\n",
    "\n",
    "# Area plot\n",
    "plt.fill_between(x, y, color= 'lavender', label = \"Losses\")\n",
    "plt.fill_between(x, y2, label = \"Wins\" , color= 'skyblue')\n",
    "plt.xticks(np.arange(0,5))\n",
    "plt.title('User retention graph')\n",
    "plt.xlabel('Levels')\n",
    "plt.ylabel('unique user count')\n",
    "plt.yticks(np.arange(0,500, 100)) \n",
    "plt.legend()\n",
    "plt.show()"
   ]
  },
  {
   "cell_type": "code",
   "execution_count": 133,
   "id": "e63289a5",
   "metadata": {},
   "outputs": [
    {
     "data": {
      "image/png": "[encoded data removed]",
      "text/plain": [
       "<Figure size 432x288 with 1 Axes>"
      ]
     },
     "metadata": {},
     "output_type": "display_data"
    }
   ],
   "source": [
    "y = np.array([df[(df[\"outcome\"] == 1)].shape[0], df[(df[\"outcome\"] == 0)].shape[0]])\n",
    "mylabels = [\"Wins\", \"losses\"]\n",
    "mycolors = [\"darksalmon\", \"thistle\"]\n",
    "\n",
    "plt.pie(y, labels = mylabels,colors = mycolors, autopct='%.1f%%')\n",
    "plt.title('Total game plays - wins vs. losses')\n",
    "plt.show() "
   ]
  },
  {
   "cell_type": "code",
   "execution_count": 135,
   "id": "e15cfe90",
   "metadata": {},
   "outputs": [
    {
     "data": {
      "image/png": "[encoded data removed]",
      "text/plain": [
       "<Figure size 432x288 with 1 Axes>"
      ]
     },
     "metadata": {
      "needs_background": "light"
     },
     "output_type": "display_data"
    }
   ],
   "source": [
    "bar_width = 0.35\n",
    "fig, ax = plt.subplots()\n",
    "level0loss = ax.bar(df[df[\"level\"] == 0]['level'],df[(df[\"outcome\"] == 0) & (df[\"level\"] == 0)]['outcome'].count(),bar_width, label = \"Lose\" , color = 'lightsalmon')\n",
    "level0loss = ax.bar(df[df[\"level\"] == 0]['level'],df[(df[\"outcome\"] == 1) & (df[\"level\"] == 0)]['outcome'].count(),bar_width, label = \"win\", color = 'green')\n",
    "level1loss = ax.bar(df[df[\"level\"] == 1]['level'],df[(df[\"outcome\"] == 0) & (df[\"level\"] == 1)]['outcome'].count(),bar_width, color = 'lightsalmon')\n",
    "level1win = ax.bar(df[df[\"level\"] == 1]['level'], df[(df[\"outcome\"] == 1) & (df[\"level\"] == 1)]['outcome'].count(),bar_width, color = 'green')\n",
    "ax.set_xlabel('levels')\n",
    "ax.set_ylabel('count')\n",
    "ax.set_title('level vs loss or win')\n",
    "ax.set_xticks([0,1])\n",
    "ax.set_xticklabels([\"0\",\"1\"])\n",
    "ax.legend()\n",
    "plt.show()"
   ]
  },
  {
   "cell_type": "markdown",
   "id": "b71c9e03",
   "metadata": {},
   "source": [
    "## Platforms position when the level is Lost/Won ( Metric #4)"
   ]
  },
  {
   "cell_type": "markdown",
   "id": "7b950215",
   "metadata": {},
   "source": [
    "When the player wins/losses the level we get different insights on where they put the platform to either win/lose the game.  \n",
    "This gives us the following insights -\n",
    "- If the players understand where exactly to put the platforms when the level is completed.\n",
    "- Strategy players use when they lose the game. \n",
    "- Different strategies to complete the level. This will tell us different places to put the platform and still be able to win the level.\n"
   ]
  },
  {
   "cell_type": "code",
   "execution_count": 153,
   "id": "96cfefb3",
   "metadata": {},
   "outputs": [],
   "source": [
    "def prepDf(dfTime):\n",
    "    dfcoord = pd.DataFrame()\n",
    "    for i in dfTime.index:\n",
    "        dfTime['platformCords'][i] = dfTime['platformCords'][i][:-1]\n",
    "        dfTime['platformCords'][i] = '{\"coords\": ['+dfTime['platformCords'][i]+ ']}'\n",
    "        val = ''\n",
    "        for j in range (len(dfTime['platformCords'][i])):\n",
    "            if dfTime['platformCords'][i][j]  == 'x' or dfTime['platformCords'][i][j]  == 'y':\n",
    "                val += '\"'+dfTime['platformCords'][i][j]+'\"'\n",
    "            else:\n",
    "                val+=dfTime['platformCords'][i][j]\n",
    "        json_object = json.loads(val)\n",
    "        if len(dfcoord.index) == 0:\n",
    "            dfcoord = pd.DataFrame(json_object['coords'])\n",
    "        else:\n",
    "            dfcoord = pd.concat([dfcoord, pd.DataFrame(json_object['coords'])], ignore_index=True)\n",
    "    return dfcoord"
   ]
  },
  {
   "cell_type": "code",
   "execution_count": 154,
   "id": "b380f3ef",
   "metadata": {},
   "outputs": [
    {
     "data": {
      "image/png": "[encoded data removed]",
      "text/plain": [
       "<Figure size 432x288 with 2 Axes>"
      ]
     },
     "metadata": {
      "needs_background": "light"
     },
     "output_type": "display_data"
    },
    {
     "name": "stdout",
     "output_type": "stream",
     "text": [
      "\t\t Level 0\n"
     ]
    },
    {
     "data": {
      "image/png": "[encoded data removed]",
      "text/plain": [
       "<Figure size 432x288 with 2 Axes>"
      ]
     },
     "metadata": {
      "needs_background": "light"
     },
     "output_type": "display_data"
    },
    {
     "name": "stdout",
     "output_type": "stream",
     "text": [
      "\t\t Level 1\n"
     ]
    }
   ],
   "source": [
    "#Plots for loss\n",
    "for i in range(0,2):\n",
    "    game = prepDf(df[(df[\"outcome\"] == 0) & (df[\"level\"] == i)])\n",
    "    plt.hist2d(game['x'],game['y'])\n",
    "    plt.colorbar()\n",
    "    plt.show()\n",
    "    print(\"\\t\\t Level\",i)"
   ]
  },
  {
   "cell_type": "code",
   "execution_count": 155,
   "id": "16e5ceb9",
   "metadata": {},
   "outputs": [
    {
     "data": {
      "image/png": "[encoded data removed]",
      "text/plain": [
       "<Figure size 432x288 with 2 Axes>"
      ]
     },
     "metadata": {
      "needs_background": "light"
     },
     "output_type": "display_data"
    },
    {
     "name": "stdout",
     "output_type": "stream",
     "text": [
      "\t\t Level 0\n"
     ]
    },
    {
     "data": {
      "image/png": "[encoded data removed]",
      "text/plain": [
       "<Figure size 432x288 with 2 Axes>"
      ]
     },
     "metadata": {
      "needs_background": "light"
     },
     "output_type": "display_data"
    },
    {
     "name": "stdout",
     "output_type": "stream",
     "text": [
      "\t\t Level 1\n"
     ]
    }
   ],
   "source": [
    "#plots for win\n",
    "for i in range(0,2):\n",
    "    game = prepDf(df[(df[\"outcome\"] == 1) & (df[\"level\"] == i)])\n",
    "    plt.hist2d(game['x'],game['y'])\n",
    "    plt.colorbar()\n",
    "    plt.show()\n",
    "    print(\"\\t\\t Level\",i)"
   ]
  },
  {
   "cell_type": "markdown",
   "id": "7902fd20",
   "metadata": {},
   "source": [
    "## Death position of the player (Metric #5)"
   ]
  },
  {
   "cell_type": "markdown",
   "id": "798467b3",
   "metadata": {},
   "source": [
    "The position of the players before their death lets us know which part of the level is more difficult where most players die. This helps us in neutralizing the game in case the level becomes too difficult which might lead to players not continuing the further "
   ]
  },
  {
   "cell_type": "code",
   "execution_count": 202,
   "id": "eb686df0",
   "metadata": {},
   "outputs": [],
   "source": [
    "loss = df[df[\"outcome\"] == 0]\n",
    "def prepDeathDF(loss):\n",
    "    deathcoord = pd.DataFrame()\n",
    "    for i in loss.index:\n",
    "        loss['platformCords'][i] = loss['platformCords'][i][:-1]\n",
    "        loss['platformCords'][i] = '{\"coords\": ['+loss['platformCords'][i]+ ']}'\n",
    "        val = ''\n",
    "        for j in range (len(loss['platformCords'][i])):\n",
    "            if loss['platformCords'][i][j]  == 'x' or loss['platformCords'][i][j]  == 'y':\n",
    "                val += '\"'+loss['platformCords'][i][j]+'\"'\n",
    "            else:\n",
    "                val+=loss['platformCords'][i][j]\n",
    "        json_object = json.loads(val)\n",
    "        latval = len(json_object['coords']) -1\n",
    "        if(latval>=0):\n",
    "            last_obj = json_object['coords'][lastval]\n",
    "            if len(deathcoord.index) == 0:\n",
    "                deathcoord = pd.DataFrame({'x': last_obj['x'], 'y':last_obj['y']},index=[0])\n",
    "            else:\n",
    "                deathcoord = pd.concat([deathcoord, pd.DataFrame({'x':last_obj['x'], 'y': last_obj['y']},index=[0])], ignore_index=True)\n",
    "    return deathcoord"
   ]
  },
  {
   "cell_type": "code",
   "execution_count": 204,
   "id": "c913e096",
   "metadata": {},
   "outputs": [
    {
     "data": {
      "image/png": "[encoded data removed]",
      "text/plain": [
       "<Figure size 432x288 with 2 Axes>"
      ]
     },
     "metadata": {
      "needs_background": "light"
     },
     "output_type": "display_data"
    },
    {
     "name": "stdout",
     "output_type": "stream",
     "text": [
      "\t\t Level 0\n"
     ]
    },
    {
     "data": {
      "image/png": "[encoded data removed]",
      "text/plain": [
       "<Figure size 432x288 with 2 Axes>"
      ]
     },
     "metadata": {
      "needs_background": "light"
     },
     "output_type": "display_data"
    },
    {
     "name": "stdout",
     "output_type": "stream",
     "text": [
      "\t\t Level 1\n"
     ]
    }
   ],
   "source": [
    "for i in range(0,2):\n",
    "    death = prepDeathDF(df[(df[\"outcome\"] == 0) & (df[\"level\"] == i)])\n",
    "    plt.hist2d(death['x'],death['y'])\n",
    "    plt.colorbar()\n",
    "    plt.show()\n",
    "    print(\"\\t\\t Level\",i)"
   ]
  },
  {
   "cell_type": "code",
   "execution_count": null,
   "id": "65c211a6",
   "metadata": {},
   "outputs": [],
   "source": []
  }
 ],
 "metadata": {
  "kernelspec": {
   "display_name": "Python 3 (ipykernel)",
   "language": "python",
   "name": "python3"
  },
  "language_info": {
   "codemirror_mode": {
    "name": "ipython",
    "version": 3
   },
   "file_extension": ".py",
   "mimetype": "text/x-python",
   "name": "python",
   "nbconvert_exporter": "python",
   "pygments_lexer": "ipython3",
   "version": "3.9.12"
  }
 },
 "nbformat": 4,
 "nbformat_minor": 5
}
